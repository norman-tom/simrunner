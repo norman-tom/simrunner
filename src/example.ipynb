{
 "cells": [
  {
   "cell_type": "markdown",
   "metadata": {},
   "source": [
    "# Simrunner - Example use with Tuflow\n",
    "Author: Tom Norman  \n",
    "Version 0.1.0 (Prerelease)"
   ]
  },
  {
   "cell_type": "markdown",
   "metadata": {},
   "source": [
    "__Disclaimer__: \n",
    "This package, or any of the work associated with simrunner has absolutely no affiliation with Tuflow or BMT. "
   ]
  },
  {
   "cell_type": "markdown",
   "metadata": {},
   "source": [
    "A working example of using Simrunner to call the demonstration examples of Tuflow, downloaded [here](https://downloads.tuflow.com/TUFLOW/Wiki_Example_Models/TUFLOW_Example_Model_Dataset.zip).  \n",
    "\n",
    "The batch file we are replicating is below:"
   ]
  },
  {
   "cell_type": "markdown",
   "metadata": {},
   "source": [
    "```Batch\n",
    "set EXE_iSP=..\\exe\\2023-03-AC\\TUFLOW_iSP_w64.exe\n",
    "set EXE_iDP=..\\exe\\2023-03-AC\\TUFLOW_iDP_w64.exe\n",
    "\n",
    "start \"TUFLOW\" /wait   %EXE_iSP% -b  -sl  Exg EG16_~s1~_001.tcf\n",
    "start \"TUFLOW\" /wait   %EXE_iSP% -b  -sl  D01 EG16_~s1~_001.tcf\n",
    "start \"TUFLOW\" /wait   %EXE_iSP% -b  -sl  Exg  -s2  5m EG16_~s1~_~s2~_002.tcf\n",
    "start \"TUFLOW\" /wait   %EXE_iSP% -b  -sl  D01  -s2  5m EG16_~s1~_~s2~_002.tcf\n",
    "start \"TUFLOW\" /wait   %EXE_iSP% -b  -sl  Exg  -s2  2.5m EG16_~s1~_~s2~_002.tcf\n",
    "start \"TUFLOW\" /wait   %EXE_iSP% -b  -sl  D01  -s2  2.5m EG16_~s1~_~s2~_002.tcf\n",
    "start \"TUFLOW\" /wait   %EXE_iSP% -b  -sl  Exg  -s2  5m EG16_~s1~_~s2~_003.tcf\n",
    "start \"TUFLOW\" /wait   %EXE_iSP% -b  -sl  D01  -s2  5m EG16_~s1~_~s2~_003.tcf\n",
    "start \"TUFLOW\" /wait   %EXE_iSP% -b  -el  Q100 EG16_~e1~_004.tcf\n",
    "start \"TUFLOW\" /wait   %EXE_iSP% -b  -el  QPMF EG16_~e1~_004.tcf\n",
    "start \"TUFLOW\" /wait   %EXE_iSP% -b  -el  Q100 -e2 2hr EG16_~e1~_~e2~_005.tcf\n",
    "start \"TUFLOW\" /wait   %EXE_iSP% -b  -el  Q100 -e2 4hr EG16_~e1~_~e2~_005.tcf\n",
    "start \"TUFLOW\" /wait   %EXE_iSP% -b  -el  QPMF -e2 2hr EG16_~e1~_~e2~_005.tcf\n",
    "start \"TUFLOW\" /wait   %EXE_iSP% -b  -el  QPMF -e2 4hr EG16_~e1~_~e2~_005.tcf\n",
    "start \"TUFLOW\" /wait   %EXE_iSP% -b  -sl  Exg  -s2  5m  -el  Q100 -e2  2hr EG16_~s1~_~s2~_~e1~_~e2~_006.tcf\n",
    "start \"TUFLOW\" /wait   %EXE_iSP% -b  -sl  D01  -s2  5m  -el  Q100 -e2  4hr EG16_~s1~_~s2~_~e1~_~e2~_006.tcf\n",
    "start \"TUFLOW\" /wait   %EXE_iSP% -b  -sl  Exg  -s2  5m  -el  QPMF -e2  2hr EG16_~s1~_~s2~_~e1~_~e2~_006.tcf\n",
    "start \"TUFLOW\" /wait   %EXE_iSP% -b  -sl  D01  -s2  5m  -el  QPMF -e2  4hr EG16_~s1~_~s2~_~e1~_~e2~_006.tcf\n",
    "```"
   ]
  },
  {
   "cell_type": "markdown",
   "metadata": {},
   "source": [
    "Import Simrunner to so we can use it. "
   ]
  },
  {
   "cell_type": "code",
   "execution_count": 25,
   "metadata": {},
   "outputs": [],
   "source": [
    "import simrunner.tuflow as tfr"
   ]
  },
  {
   "cell_type": "markdown",
   "metadata": {},
   "source": [
    "Set up the parameter files."
   ]
  },
  {
   "cell_type": "code",
   "execution_count": 26,
   "metadata": {},
   "outputs": [],
   "source": [
    "parameters: tfr.Parameters = tfr.Parameters(\n",
    "    exec_path = r\"..\\tests\\data\\tuflow\\examples\\exe\",  # The path to the TUFLOW executable.\n",
    "    root = r\"..\\tests\\data\\tuflow\\examples\\runs\",      # The root of the model, location of the .tcf file.\n",
    "    version = r\"2023-03-AC\",                           # The version of the engine.\n",
    "    engine = r\"SP\",                                    # Single precision.\n",
    "    flags = ['-t'],                                    # Lets just test for now.\n",
    "    async_runs = 2,                                    # Run two models at once.\n",
    "    stdout = r'..\\trash\\stdout',                       # In a location away from the source code.\n",
    "    group = r\"EG16\"                                    # Only focusing on EG16.\n",
    ")"
   ]
  },
  {
   "cell_type": "markdown",
   "metadata": {},
   "source": [
    "Set the runs we want to do. "
   ]
  },
  {
   "cell_type": "code",
   "execution_count": 27,
   "metadata": {},
   "outputs": [],
   "source": [
    "runs = {\n",
    "    \"001\": [\n",
    "        tfr.Run(s1=\"Exg\"),\n",
    "        tfr.Run(s1=\"D01\")\n",
    "    ],\n",
    "    \"002\": [\n",
    "        tfr.Run(s1=\"Exg\", s2=\"5m\"),\n",
    "        tfr.Run(s1=\"D01\", s2=\"5m\"),\n",
    "        tfr.Run(s1=\"Exg\", s2=\"2.5m\"),\n",
    "        tfr.Run(s1=\"D01\", s2=\"2.5m\")\n",
    "    ],\n",
    "    \"003\": [\n",
    "        tfr.Run(s1=\"Exg\", s2=\"5m\"),\n",
    "        tfr.Run(s1=\"D01\", s2=\"5m\")\n",
    "    ],\n",
    "    \"004\": [\n",
    "        tfr.Run(e1=\"Q100\"),\n",
    "        tfr.Run(e1=\"QPMF\")\n",
    "    ],\n",
    "    \"005\": [\n",
    "        tfr.Run(e1=\"Q100\", e2=\"2hr\"),\n",
    "        tfr.Run(e1=\"Q100\", e2=\"4hr\"),\n",
    "        tfr.Run(e1=\"QPMF\", e2=\"2hr\"),\n",
    "        tfr.Run(e1=\"QPMF\", e2=\"4hr\"),\n",
    "    ],\n",
    "    \"006\": [\n",
    "        tfr.Run(s1=\"Exg\", s2=\"5m\", e1=\"Q100\", e2=\"2hr\"),\n",
    "        tfr.Run(s1=\"D01\", s2=\"5m\", e1=\"Q100\", e2=\"4hr\"),\n",
    "        tfr.Run(s1=\"Exg\", s2=\"5m\", e1=\"QPMF\", e2=\"2hr\"),\n",
    "        tfr.Run(s1=\"D01\", s2=\"5m\", e1=\"QPMF\", e2=\"4hr\"),\n",
    "    ]\n",
    "}"
   ]
  },
  {
   "cell_type": "markdown",
   "metadata": {},
   "source": [
    "Create the runner."
   ]
  },
  {
   "cell_type": "code",
   "execution_count": 28,
   "metadata": {},
   "outputs": [],
   "source": [
    "runner = tfr.Runner(parameters)"
   ]
  },
  {
   "cell_type": "markdown",
   "metadata": {},
   "source": [
    "Stage the above run in the runner."
   ]
  },
  {
   "cell_type": "code",
   "execution_count": null,
   "metadata": {},
   "outputs": [],
   "source": [
    "runner.stage(\n",
    "    [run for run in runs[\"001\"]]\n",
    ")"
   ]
  },
  {
   "cell_type": "markdown",
   "metadata": {},
   "source": [
    "Or if your runs are already in a list. A list of runs can be staged all at once."
   ]
  },
  {
   "cell_type": "code",
   "execution_count": null,
   "metadata": {},
   "outputs": [],
   "source": [
    "runner_subset = tfr.Runner(parameters)\n",
    "des_runs = runner.get_runs('DES')\n",
    "runner_subset.stage(des_runs) \n",
    "\n",
    "runner_subset.get_runs()"
   ]
  },
  {
   "cell_type": "markdown",
   "metadata": {},
   "source": [
    "To make it easy to get runs, you can get a run from a runner by index. Get the first run added to the runner."
   ]
  },
  {
   "cell_type": "code",
   "execution_count": null,
   "metadata": {},
   "outputs": [],
   "source": [
    "run_indexed = runner[0]\n",
    "run_indexed"
   ]
  },
  {
   "cell_type": "markdown",
   "metadata": {},
   "source": [
    "Or use slicing. Get the first two runs added to the runner."
   ]
  },
  {
   "cell_type": "code",
   "execution_count": null,
   "metadata": {},
   "outputs": [],
   "source": [
    "runner_sliced = runner[:2]\n",
    "runner_sliced"
   ]
  },
  {
   "cell_type": "markdown",
   "metadata": {},
   "source": [
    "To see what runs have been added to the runner."
   ]
  },
  {
   "cell_type": "code",
   "execution_count": null,
   "metadata": {},
   "outputs": [],
   "source": [
    "runner.get_runs()"
   ]
  },
  {
   "cell_type": "markdown",
   "metadata": {},
   "source": [
    "Run the staged runs, with no associated run number."
   ]
  },
  {
   "cell_type": "code",
   "execution_count": null,
   "metadata": {},
   "outputs": [],
   "source": [
    "runner.run()"
   ]
  },
  {
   "cell_type": "markdown",
   "metadata": {},
   "source": [
    "To run a specific run number."
   ]
  },
  {
   "cell_type": "code",
   "execution_count": null,
   "metadata": {},
   "outputs": [],
   "source": [
    "runner.run('01')"
   ]
  },
  {
   "cell_type": "markdown",
   "metadata": {},
   "source": [
    "To run multiple run numbers, this will alternate run numbers as the runner proceeds through the runs. "
   ]
  },
  {
   "cell_type": "code",
   "execution_count": null,
   "metadata": {},
   "outputs": [],
   "source": [
    "runner.run('01', '02')"
   ]
  },
  {
   "cell_type": "markdown",
   "metadata": {},
   "source": [
    "And to run the run numbers in sequence. "
   ]
  },
  {
   "cell_type": "code",
   "execution_count": null,
   "metadata": {},
   "outputs": [],
   "source": [
    "runner.run('01')\n",
    "runner.run('02')"
   ]
  },
  {
   "cell_type": "markdown",
   "metadata": {},
   "source": [
    "You can create a new tuflow runner from other runners. The staged runs are inherited from runners it was created with runners. "
   ]
  },
  {
   "cell_type": "code",
   "execution_count": null,
   "metadata": {},
   "outputs": [],
   "source": [
    "runner_1 = tfr.Runner(parameters)\n",
    "runner_2 = tfr.Runner(parameters)\n",
    "runner_3 = tfr.Runner(parameters)\n",
    "\n",
    "runner_1.stage(tfr.Run(s1='EX', e1='M120', e2='CC'))\n",
    "runner_2.stage(tfr.Run(s1='DES', e1='M120', e2='CC'))\n",
    "runner_3.stage(tfr.Run(s1='DES', e1='M45', e2='NC'))\n",
    "\n",
    "runner_all = tfr.Runner(parameters, runner_1, runner_2, runner_3)\n",
    "\n",
    "runner_all.get_runs()"
   ]
  },
  {
   "cell_type": "markdown",
   "metadata": {},
   "source": [
    "There is no point running the exact same model twice, so duplicates are not added. 'runner_all' already has these three models so they wont be added again."
   ]
  },
  {
   "cell_type": "code",
   "execution_count": null,
   "metadata": {},
   "outputs": [],
   "source": [
    "runner_all.stage(tfr.Run(s1='EX', e1='M120', e2='CC'))\n",
    "runner_all.stage(tfr.Run(s1='DES', e1='M120', e2='CC'))\n",
    "runner_all.stage(tfr.Run(s1='DES', e1='M45', e2='NC'))\n",
    "\n",
    "runner_all.get_runs()"
   ]
  },
  {
   "cell_type": "markdown",
   "metadata": {},
   "source": [
    "Filter runs based on any model parameters. Lets get all the DES runs."
   ]
  },
  {
   "cell_type": "code",
   "execution_count": null,
   "metadata": {},
   "outputs": [],
   "source": [
    "des_runs = runner.get_runs('DES')\n",
    "des_runs"
   ]
  },
  {
   "cell_type": "markdown",
   "metadata": {},
   "source": [
    "Now get all runs that have the parameter 'DES' or 'EX'."
   ]
  },
  {
   "cell_type": "code",
   "execution_count": null,
   "metadata": {},
   "outputs": [],
   "source": [
    "des_ex_runs = runner.get_runs('DES', 'EX')\n",
    "des_ex_runs"
   ]
  },
  {
   "cell_type": "markdown",
   "metadata": {},
   "source": [
    "Setting 'any=False' filters runs that must match ALL listed arguments. No runs satisfy both DES and EX scenarios."
   ]
  },
  {
   "cell_type": "code",
   "execution_count": null,
   "metadata": {},
   "outputs": [],
   "source": [
    "no_runs = runner.get_runs('DES', \"EX\", any=False)\n",
    "no_runs"
   ]
  },
  {
   "cell_type": "markdown",
   "metadata": {},
   "source": [
    "Remove runs from a runner. Lets remove the DES runs from the runner, we retrieved above."
   ]
  },
  {
   "cell_type": "code",
   "execution_count": null,
   "metadata": {},
   "outputs": [],
   "source": [
    "runner_remove = tfr.Runner(parameters, runner)\n",
    "runner_remove.remove_runs(des_runs)\n",
    "runner_remove.get_runs()"
   ]
  },
  {
   "cell_type": "markdown",
   "metadata": {},
   "source": [
    "Make testing straight forward, by setting parameter on the fly."
   ]
  },
  {
   "cell_type": "code",
   "execution_count": null,
   "metadata": {},
   "outputs": [],
   "source": [
    "TEST = True\n",
    "\n",
    "if TEST:\n",
    "    parameters.flags = ['-t']\n",
    "    runner.run()\n",
    "else:\n",
    "    parameters.flags = ['-b']\n",
    "    runner.run()"
   ]
  },
  {
   "cell_type": "markdown",
   "metadata": {},
   "source": [
    "Change versions on the fly."
   ]
  },
  {
   "cell_type": "code",
   "execution_count": null,
   "metadata": {},
   "outputs": [],
   "source": [
    "parameters.version = '2020-10-AF'\n",
    "runner.run()"
   ]
  }
 ],
 "metadata": {
  "kernelspec": {
   "display_name": "Python 3",
   "language": "python",
   "name": "python3"
  },
  "language_info": {
   "codemirror_mode": {
    "name": "ipython",
    "version": 3
   },
   "file_extension": ".py",
   "mimetype": "text/x-python",
   "name": "python",
   "nbconvert_exporter": "python",
   "pygments_lexer": "ipython3",
   "version": "3.11.8"
  }
 },
 "nbformat": 4,
 "nbformat_minor": 2
}
