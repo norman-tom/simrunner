{
 "cells": [
  {
   "cell_type": "markdown",
   "metadata": {},
   "source": [
    "# Simrunner - Example Use"
   ]
  },
  {
   "cell_type": "markdown",
   "metadata": {},
   "source": [
    "Author: Tom Norman  \n",
    "Version 0.1.0 (Prerelease)\n",
    "\n",
    "__Disclaimer__: \n",
    "This package, or any of the work associated with simrunner has absolutely no affiliation with Tuflow or BMT. "
   ]
  },
  {
   "cell_type": "markdown",
   "metadata": {},
   "source": [
    "The example use utilises the demostration version of Tuflow, available [here](https://downloads.tuflow.com/TUFLOW/Wiki_Example_Models/TUFLOW_Example_Model_Dataset.zip). The way the demostration folder and TCFs are setup is not ideal for a production environment as it has all the examples lumped together, so to follow along, pull out 'EG16' with run number '006' and put this into its own project directory. \n",
    "\n",
    "Simrunner requires that the TCFs are in the following format.  \n",
    "\n",
    "<span style=\"color:red\">GROUP ID</span>\\_<span style=\"color:orange\">ARGUMENTS</span>\\_<span style=\"color:green\">RUN NUMBER</span>  \n",
    "\n",
    "All TCFs with the same group id need the same set of run arguments, otherwise errors will occur. In the case of EG16 demostration:\n",
    "- group id = 'EG16', \n",
    "- arguments = '-s1, -s2, -e1, -e2'\n",
    "- run number = '006'"
   ]
  },
  {
   "cell_type": "markdown",
   "metadata": {},
   "source": [
    "Import Simrunner to use."
   ]
  },
  {
   "cell_type": "code",
   "execution_count": 1,
   "metadata": {},
   "outputs": [],
   "source": [
    "import simrunner.tuflow as tfr\n",
    "import time"
   ]
  },
  {
   "cell_type": "markdown",
   "metadata": {},
   "source": [
    "Set the parameters"
   ]
  },
  {
   "cell_type": "code",
   "execution_count": 2,
   "metadata": {},
   "outputs": [],
   "source": [
    "parameters: tfr.Parameters = tfr.Parameters(\n",
    "    exec_path = r\"..\\tests\\data\\tuflow\\examples\\production\\exe\",  # The path to the TUFLOW executable.\n",
    "    root = r\"..\\tests\\data\\tuflow\\examples\\production\\runs\",      # The root of the model, location of the .tcf file.\n",
    "    version = r\"2023-03-AC\",                                      # The version of the engine.\n",
    "    engine = r\"SP\",                                               # Single precision.\n",
    "    flags = ['-t'],                                               # Lets just test for now.\n",
    "    async_runs = 2,                                               # Run two models at once.\n",
    "    stdout = r'..\\trash\\stdout'                                   # Location to save the output.\n",
    ")"
   ]
  },
  {
   "cell_type": "markdown",
   "metadata": {},
   "source": [
    "Create the runs"
   ]
  },
  {
   "cell_type": "code",
   "execution_count": 3,
   "metadata": {},
   "outputs": [],
   "source": [
    "S1 = [\"Exg\", \"D01\"]\n",
    "S2 = [\"5m\"]\n",
    "E1 = [\"Q100\", \"QPMF\"]\n",
    "E2 = [\"2hr\", \"4hr\"]\n",
    "\n",
    "runs = [tfr.Run(s1=s1, s2=s2, e1=e1, e2=e2) for s1 in S1 for s2 in S2 for e1 in E1 for e2 in E2]"
   ]
  },
  {
   "cell_type": "markdown",
   "metadata": {},
   "source": [
    "Create the runner and stage the runs."
   ]
  },
  {
   "cell_type": "code",
   "execution_count": 4,
   "metadata": {},
   "outputs": [
    {
     "data": {
      "text/plain": [
       "[{'s1': 'Exg', 's2': '5m', 'e1': 'Q100', 'e2': '2hr'},\n",
       " {'s1': 'Exg', 's2': '5m', 'e1': 'Q100', 'e2': '4hr'},\n",
       " {'s1': 'Exg', 's2': '5m', 'e1': 'QPMF', 'e2': '2hr'},\n",
       " {'s1': 'Exg', 's2': '5m', 'e1': 'QPMF', 'e2': '4hr'},\n",
       " {'s1': 'D01', 's2': '5m', 'e1': 'Q100', 'e2': '2hr'},\n",
       " {'s1': 'D01', 's2': '5m', 'e1': 'Q100', 'e2': '4hr'},\n",
       " {'s1': 'D01', 's2': '5m', 'e1': 'QPMF', 'e2': '2hr'},\n",
       " {'s1': 'D01', 's2': '5m', 'e1': 'QPMF', 'e2': '4hr'}]"
      ]
     },
     "execution_count": 4,
     "metadata": {},
     "output_type": "execute_result"
    }
   ],
   "source": [
    "runner = tfr.Runner(parameters)\n",
    "runner.stage(runs)\n",
    "runner.get_runs()"
   ]
  },
  {
   "cell_type": "markdown",
   "metadata": {},
   "source": [
    "Remove the {'Exg', '4hr'} and {'D01', '2hrs'} runs, there are not defined in the demostation."
   ]
  },
  {
   "cell_type": "code",
   "execution_count": 5,
   "metadata": {},
   "outputs": [
    {
     "data": {
      "text/plain": [
       "[{'s1': 'Exg', 's2': '5m', 'e1': 'Q100', 'e2': '4hr'},\n",
       " {'s1': 'Exg', 's2': '5m', 'e1': 'QPMF', 'e2': '4hr'},\n",
       " {'s1': 'D01', 's2': '5m', 'e1': 'Q100', 'e2': '2hr'},\n",
       " {'s1': 'D01', 's2': '5m', 'e1': 'QPMF', 'e2': '2hr'}]"
      ]
     },
     "execution_count": 5,
     "metadata": {},
     "output_type": "execute_result"
    }
   ],
   "source": [
    "runner.remove_runs(runner.get_runs('Exg', '2hr', any=False))\n",
    "runner.remove_runs(runner.get_runs('D01', '4hr', any=False))\n",
    "runner.get_runs()"
   ]
  },
  {
   "cell_type": "markdown",
   "metadata": {},
   "source": [
    "Test the model, block on this cell so we dont move into the real run."
   ]
  },
  {
   "cell_type": "code",
   "execution_count": 6,
   "metadata": {},
   "outputs": [
    {
     "name": "stdout",
     "output_type": "stream",
     "text": [
      "executing: {'s1': 'Exg', 's2': '5m', 'e1': 'Q100', 'e2': '4hr'}_None\n",
      "executing: {'s1': 'Exg', 's2': '5m', 'e1': 'QPMF', 'e2': '4hr'}_None\n",
      "executing: {'s1': 'D01', 's2': '5m', 'e1': 'Q100', 'e2': '2hr'}_None\n",
      "executing: {'s1': 'D01', 's2': '5m', 'e1': 'QPMF', 'e2': '2hr'}_None\n",
      "---- ALL RUNS COMPLETE ----\n"
     ]
    }
   ],
   "source": [
    "parameters.flags = ['-t', '-b']\n",
    "runner.run()"
   ]
  },
  {
   "cell_type": "markdown",
   "metadata": {},
   "source": [
    "Test is good, run the model."
   ]
  },
  {
   "cell_type": "code",
   "execution_count": 7,
   "metadata": {},
   "outputs": [
    {
     "name": "stdout",
     "output_type": "stream",
     "text": [
      "executing: {'s1': 'Exg', 's2': '5m', 'e1': 'Q100', 'e2': '4hr'}_None\n",
      "executing: {'s1': 'Exg', 's2': '5m', 'e1': 'QPMF', 'e2': '4hr'}_None\n",
      "executing: {'s1': 'D01', 's2': '5m', 'e1': 'Q100', 'e2': '2hr'}_None\n",
      "executing: {'s1': 'D01', 's2': '5m', 'e1': 'QPMF', 'e2': '2hr'}_None\n",
      "---- ALL RUNS COMPLETE ----\n"
     ]
    }
   ],
   "source": [
    "parameters.flags = ['-b']\n",
    "runner.run()"
   ]
  },
  {
   "cell_type": "markdown",
   "metadata": {},
   "source": [
    "If we want to stop the runs, call the below method. "
   ]
  },
  {
   "cell_type": "code",
   "execution_count": null,
   "metadata": {},
   "outputs": [],
   "source": [
    "raise Exception(\"Go No Further!\")"
   ]
  },
  {
   "cell_type": "code",
   "execution_count": 9,
   "metadata": {},
   "outputs": [],
   "source": [
    "runner.stop()"
   ]
  },
  {
   "cell_type": "markdown",
   "metadata": {},
   "source": [
    "That it's. Running models from python is easy, fast and unambiguous! Using Jupyter Notebooks it is easy to document your models as you develop and run them. This combined with Tuflow's own pytuflow reporting library and powerful GIS libraries like GDAL, fully automated workflows can be established. "
   ]
  }
 ],
 "metadata": {
  "kernelspec": {
   "display_name": "Python 3",
   "language": "python",
   "name": "python3"
  },
  "language_info": {
   "codemirror_mode": {
    "name": "ipython",
    "version": 3
   },
   "file_extension": ".py",
   "mimetype": "text/x-python",
   "name": "python",
   "nbconvert_exporter": "python",
   "pygments_lexer": "ipython3",
   "version": "3.11.8"
  }
 },
 "nbformat": 4,
 "nbformat_minor": 2
}
