{
 "cells": [
  {
   "cell_type": "code",
   "execution_count": 1,
   "metadata": {},
   "outputs": [],
   "source": [
    "from simrunner.tuflow.ipython import Runner\n",
    "import simrunner.tuflow as tfr"
   ]
  },
  {
   "cell_type": "code",
   "execution_count": 2,
   "metadata": {},
   "outputs": [],
   "source": [
    "parameters: tfr.Parameters = tfr.Parameters(\n",
    "    exec_path = r\"..\\tests\\data\\tuflow\\examples\\production\\exe\",  # The path to the TUFLOW executable.\n",
    "    root = r\"..\\tests\\data\\tuflow\\examples\\production\\runs\",      # The root of the model, location of the .tcf file.\n",
    "    version = r\"2023-03-AC\",                                      # The version of the engine.\n",
    "    engine = r\"SP\",                                               # Single precision.\n",
    "    flags = ['-t'],                                               # Lets just test for now.\n",
    "    async_runs = 2,                                               # Run two models at once.\n",
    "    stdout = r'..\\trash\\stdout'                                   # Location to save the output.\n",
    ")"
   ]
  },
  {
   "cell_type": "code",
   "execution_count": 3,
   "metadata": {},
   "outputs": [
    {
     "data": {
      "text/plain": [
       "[{'s1': 'Exg', 's2': '5m', 'e1': 'Q100', 'e2': '4hr'},\n",
       " {'s1': 'Exg', 's2': '5m', 'e1': 'QPMF', 'e2': '4hr'},\n",
       " {'s1': 'D01', 's2': '5m', 'e1': 'Q100', 'e2': '2hr'},\n",
       " {'s1': 'D01', 's2': '5m', 'e1': 'QPMF', 'e2': '2hr'}]"
      ]
     },
     "execution_count": 3,
     "metadata": {},
     "output_type": "execute_result"
    }
   ],
   "source": [
    "S1 = [\"Exg\", \"D01\"]\n",
    "S2 = [\"5m\"]\n",
    "E1 = [\"Q100\", \"QPMF\"]\n",
    "E2 = [\"2hr\", \"4hr\"]\n",
    "\n",
    "runs = [tfr.Run(s1=s1, s2=s2, e1=e1, e2=e2) for s1 in S1 for s2 in S2 for e1 in E1 for e2 in E2]\n",
    "\n",
    "runner = Runner(parameters)\n",
    "runner.stage(runs)\n",
    "runner.get_runs()\n",
    "\n",
    "runner.remove_runs(runner.get_runs('Exg', '2hr', any=False))\n",
    "runner.remove_runs(runner.get_runs('D01', '4hr', any=False))\n",
    "runner.get_runs()"
   ]
  },
  {
   "cell_type": "code",
   "execution_count": 4,
   "metadata": {},
   "outputs": [
    {
     "data": {
      "application/vnd.jupyter.widget-view+json": {
       "model_id": "4b069f6dc49b41f6b86a6574b0090755",
       "version_major": 2,
       "version_minor": 0
      },
      "text/plain": [
       "ViewController(children=(Label(value='Run ID:', layout=Layout(height='30px', width='350px')), Button(descripti…"
      ]
     },
     "metadata": {},
     "output_type": "display_data"
    },
    {
     "data": {
      "application/vnd.jupyter.widget-view+json": {
       "model_id": "07824f8508b64b2594f6b4108b65d337",
       "version_major": 2,
       "version_minor": 0
      },
      "text/plain": [
       "ViewController(children=(Label(value='Run ID:', layout=Layout(height='30px', width='350px')), Button(descripti…"
      ]
     },
     "metadata": {},
     "output_type": "display_data"
    },
    {
     "data": {
      "application/vnd.jupyter.widget-view+json": {
       "model_id": "d39ecc1f4d26483983191aad7368feed",
       "version_major": 2,
       "version_minor": 0
      },
      "text/plain": [
       "ViewController(children=(Label(value='Run ID:', layout=Layout(height='30px', width='350px')), Button(descripti…"
      ]
     },
     "metadata": {},
     "output_type": "display_data"
    },
    {
     "data": {
      "application/vnd.jupyter.widget-view+json": {
       "model_id": "701a3281b04f4e219741ccf620802e74",
       "version_major": 2,
       "version_minor": 0
      },
      "text/plain": [
       "ViewController(children=(Label(value='Run ID:', layout=Layout(height='30px', width='350px')), Button(descripti…"
      ]
     },
     "metadata": {},
     "output_type": "display_data"
    }
   ],
   "source": [
    "parameters.flags = ['-t']\n",
    "runner.run()"
   ]
  }
 ],
 "metadata": {
  "kernelspec": {
   "display_name": "Python 3",
   "language": "python",
   "name": "python3"
  },
  "language_info": {
   "codemirror_mode": {
    "name": "ipython",
    "version": 3
   },
   "file_extension": ".py",
   "mimetype": "text/x-python",
   "name": "python",
   "nbconvert_exporter": "python",
   "pygments_lexer": "ipython3",
   "version": "3.11.8"
  }
 },
 "nbformat": 4,
 "nbformat_minor": 2
}
