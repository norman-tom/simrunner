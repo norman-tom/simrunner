{
 "cells": [
  {
   "cell_type": "code",
   "execution_count": 44,
   "metadata": {},
   "outputs": [],
   "source": [
    "import ipywidgets as widgets\n",
    "\n",
    "class ControllerView(widgets.HBox):\n",
    "    def __init__(self):\n",
    "        super().__init__()\n",
    "        self.layout = widgets.Layout(\n",
    "            width='500px',\n",
    "            height='35px',\n",
    "            justify_content='space-around'\n",
    "        )\n",
    "        self.run_id = widgets.Label(\n",
    "            value='Run ID:',\n",
    "            layout=widgets.Layout(\n",
    "                width='350px', \n",
    "                height='30px',\n",
    "                resize='none'\n",
    "            )\n",
    "        )\n",
    "\n",
    "        button_layout = widgets.Layout(width='100px', height='30px', border='1px solid black')\n",
    "        self.stop_button = widgets.Button(\n",
    "            description='Stop',\n",
    "            layout=button_layout\n",
    "        )\n",
    "        self.play_pause_button = widgets.Button(\n",
    "            description='Pause',\n",
    "            layout=button_layout\n",
    "        )\n",
    "        self.state_box = widgets.Label(\n",
    "            layout=widgets.Layout(\n",
    "                width='100px', \n",
    "                height='30px',\n",
    "                resize='none'\n",
    "            )\n",
    "        )\n",
    "\n",
    "        self.stop_button.on_click(self.stop_button_clicked)\n",
    "        self.play_pause_button.on_click(self.play_pause_button_clicked)\n",
    "\n",
    "        self.children = [self.run_id, self.stop_button, self.play_pause_button, self.state_box]\n",
    "\n",
    "    # Define the button click handlers\n",
    "    def stop_button_clicked(self, button):\n",
    "        self.state_box.value = 'Terminated'\n",
    "\n",
    "    def pause_button_clicked(self):\n",
    "        self.play_pause_button.description = 'Play'\n",
    "        self.state_box.value = 'Paused'\n",
    "\n",
    "    def play_button_clicked(self):\n",
    "        self.play_pause_button.description = 'Pause'\n",
    "        self.state_box.value = 'Running'\n",
    "\n",
    "    def play_pause_button_clicked(self, button):\n",
    "        if self.play_pause_button.description == 'Pause':\n",
    "            self.pause_button_clicked()\n",
    "        else:\n",
    "            self.play_button_clicked()\n",
    "\n",
    "    def set_run_id(self, run_id):\n",
    "        self.run_id.value = f'{run_id}'\n"
   ]
  },
  {
   "cell_type": "code",
   "execution_count": 45,
   "metadata": {},
   "outputs": [
    {
     "data": {
      "application/vnd.jupyter.widget-view+json": {
       "model_id": "65620b384cc74c60817802fb477ac790",
       "version_major": 2,
       "version_minor": 0
      },
      "text/plain": [
       "ControllerView(children=(Label(value='Run ID:', layout=Layout(height='30px', width='350px')), Button(descripti…"
      ]
     },
     "metadata": {},
     "output_type": "display_data"
    },
    {
     "data": {
      "application/vnd.jupyter.widget-view+json": {
       "model_id": "7d796a87d11a48e086821ae90014426e",
       "version_major": 2,
       "version_minor": 0
      },
      "text/plain": [
       "ControllerView(children=(Label(value='Run ID:', layout=Layout(height='30px', width='350px')), Button(descripti…"
      ]
     },
     "metadata": {},
     "output_type": "display_data"
    },
    {
     "data": {
      "application/vnd.jupyter.widget-view+json": {
       "model_id": "edb1c975d0784d17926291c34651f839",
       "version_major": 2,
       "version_minor": 0
      },
      "text/plain": [
       "ControllerView(children=(Label(value='Run ID:', layout=Layout(height='30px', width='350px')), Button(descripti…"
      ]
     },
     "metadata": {},
     "output_type": "display_data"
    }
   ],
   "source": [
    "display(ControllerView())\n",
    "display(ControllerView())\n",
    "display(ControllerView())"
   ]
  }
 ],
 "metadata": {
  "kernelspec": {
   "display_name": "Python 3",
   "language": "python",
   "name": "python3"
  },
  "language_info": {
   "codemirror_mode": {
    "name": "ipython",
    "version": 3
   },
   "file_extension": ".py",
   "mimetype": "text/x-python",
   "name": "python",
   "nbconvert_exporter": "python",
   "pygments_lexer": "ipython3",
   "version": "3.11.8"
  }
 },
 "nbformat": 4,
 "nbformat_minor": 2
}
