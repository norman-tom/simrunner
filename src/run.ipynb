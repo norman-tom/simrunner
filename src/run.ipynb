{
 "cells": [
  {
   "cell_type": "markdown",
   "metadata": {},
   "source": [
    "# Simrunner - Example use with Tuflow\n",
    "Author: Tom Norman  \n",
    "Version 0.1.0 (Prerelease)"
   ]
  },
  {
   "cell_type": "markdown",
   "metadata": {},
   "source": [
    "Simrunner is a framework that can work with different simulation executables. Tuflow was my use case, the tuflowrunner module is built upon simrunner to execute tuflow models in python. An example of what can be achieved with tuflowrunner in particular and Simrunner in general is given in this notebook. When getting started and familiar with the simrunner package, this notebook can be used as a template.\n",
    "\n",
    "__Disclaimer__: \n",
    "This package, or any of the work associated with simrunner has absolutely no affiliation with Tuflow or BMT. "
   ]
  },
  {
   "cell_type": "code",
   "execution_count": 2,
   "metadata": {},
   "outputs": [],
   "source": [
    "import simrunner.tuflow as tfr"
   ]
  },
  {
   "cell_type": "markdown",
   "metadata": {},
   "source": [
    "## Parameters\n",
    "\n",
    "The executable parameters of the simulation are set in the Parameters object. This is then given to the Runner. "
   ]
  },
  {
   "cell_type": "markdown",
   "metadata": {},
   "source": [
    "Set the Parameters of the run. Paths need to be entered as string literals to avoid any errors in Windows (put an 'r' in front). "
   ]
  },
  {
   "cell_type": "code",
   "execution_count": 3,
   "metadata": {},
   "outputs": [],
   "source": [
    "parameters: tfr.Parameters = tfr.Parameters(\n",
    "    exec_path = r\"C:/Program Files/TUFLOW\",      # (Required) The path to the TUFLOW executable.\n",
    "    root = r\"../tests/data/tuflow/group_tcf\",    # (Required) The root of the model, location of the .tcf file.\n",
    "    version = r\"2020-10-AD\",                     # (Required) The version of the engine.\n",
    "    engine = r\"DP\",                              # (Reguired) SP or DP.\n",
    "    flags = ['-t', '-b'],                        # (Optional [None]) Any number of flags as a list.\n",
    "    async_runs = 2,                              # (Optional [1]) How many models to run at once.\n",
    "    stdout = r'../trash/stdout',                 # (Optional [root]) Where to put the model output (what TUFLOW prints to the console).\n",
    "    group = r\"group_tag\",                        # (Optional [None]) The name of the tcf file grouping identifier.\n",
    "    run_args = ['s1', 'e1']                      # (Optional [Auto]) The run arguments the runner is expecting.\n",
    ")"
   ]
  },
  {
   "cell_type": "markdown",
   "metadata": {},
   "source": [
    "__exec_path__ (Required)  \n",
    "The path to the Tuflow executables. The location where all the different versions of the executables live.   \n",
    "\n",
    "__root__ (Required)  \n",
    "The root of the project. The location of the .tcf.  \n",
    "\n",
    "__version__ (Required)  \n",
    "The version number of the Tuflow executable. Assumes that the executable resides with the version folder. This is standard when downloading the executable from Tuflow. \n",
    "\n",
    "__engine__ (Required)  \n",
    "Either single percision (SP) or double percision (DP) engine.\n",
    "\n",
    "__flags__ (Optional)  \n",
    "The calling flags of Tuflow, these are the -b, -t, ... flags that are passed to Tuflow in the CLI.\n",
    "\n",
    "__asyc_runs__ (Optional)  \n",
    "The number of models that you wish to run at once. \n",
    "\n",
    "__stdout__ (Optional)  \n",
    "This library does not populate a console when Tuflow runs. Instead it uses interactive widgets and puts the output of the console in a text file. This is the file path to this output location. The default path is in the root directory. \n",
    "\n",
    "__group__ (Optional)  \n",
    "It may be desirable in some situations to group control files in the same root directory. Typically the TCFs within the project root are considered part of the same group and the TCFs share the same set of run arguments. When multiple TCFs in the root directory are called in different ways, a group should be given by prefixing the group id to the TCF. For example the TCF with names:\n",
    "1. __\"GY\\_~s1~\\_~e1~\\_~e2~\\_01.tcf\"__ \n",
    "2. __\"GY\\_~s1~\\_~e1~\\_~e2~\\_02.tcf\"__ \n",
    "3. __\"GX\\_~s1~\\_~s2~\\_~e1~\\_~e2~\\_01.tcf\\\"__.   \n",
    "\n",
    "The __\"GY\"__ and __\"GX\"__ are the group identifiers. When this parameter is omitted as single group is assumed.   \n",
    "\n",
    "Groups must all have the same set of run arguments, so if different TCFs have different run arguments then they should be in different groups.\n",
    "\n",
    "__run_args__ (Optional)  \n",
    "Define the TCF expected run arguments ahead of time. If the folder structure is setup correctly and each group has the same set of run arguments than Simrunner will determine the run arguments automatically. The use of this parameter should be avoided and is included only for edge use cases or legacy projects needed to be ported.  "
   ]
  },
  {
   "cell_type": "markdown",
   "metadata": {},
   "source": [
    "## Run  \n",
    "A run is a single run of the model, with a unique set of parameters that modify the model's behaviour. Multiple runs can be staged to a runner.  \n",
    "\n",
    "With the tuflow example these are the parameters you pass to the command line when running Tuflow. Just like when using the command line, the run arguments need to match the tfc otherwise an error will occur when trying to stage the runs.  \n",
    "\n",
    "The parameters are given to the Run as __key=value__ pairs. The parameter place holder is the key, the value is the parameter's value. In the below example s1=\"DES\" is functionally equivalent to '-s1 DES'. "
   ]
  },
  {
   "cell_type": "code",
   "execution_count": 3,
   "metadata": {},
   "outputs": [],
   "source": [
    "run = tfr.Run(s1=\"DES\", e1=\"M720\", e2=\"2090\")"
   ]
  },
  {
   "cell_type": "markdown",
   "metadata": {},
   "source": [
    "## Runner\n",
    "The Runner is the main object wich organises your runs and responsible for executing all your staged runs.  \n",
    "\n",
    "Create a new runner with the parameters defined above. "
   ]
  },
  {
   "cell_type": "code",
   "execution_count": 4,
   "metadata": {},
   "outputs": [],
   "source": [
    "runner = tfr.Runner(parameters)"
   ]
  },
  {
   "cell_type": "markdown",
   "metadata": {},
   "source": [
    "Stage the above run in the runner."
   ]
  },
  {
   "cell_type": "code",
   "execution_count": 5,
   "metadata": {},
   "outputs": [],
   "source": [
    "runner.stage(run)"
   ]
  },
  {
   "cell_type": "markdown",
   "metadata": {},
   "source": [
    "Just like with Batch Scripts you can loop through a bunch of scenarios and stage them in the runner. "
   ]
  },
  {
   "cell_type": "code",
   "execution_count": 6,
   "metadata": {},
   "outputs": [],
   "source": [
    "scenarios = ['EX', 'DES']\n",
    "for s in scenarios:\n",
    "    run = tfr.Run(\n",
    "        s1=s,\n",
    "        e1='M60',\n",
    "        e2='CC'\n",
    "    )\n",
    "    runner.stage(run)"
   ]
  },
  {
   "cell_type": "markdown",
   "metadata": {},
   "source": [
    "Or if your runs are already in a list. A list of runs can be staged all at once."
   ]
  },
  {
   "cell_type": "code",
   "execution_count": 7,
   "metadata": {},
   "outputs": [
    {
     "data": {
      "text/plain": [
       "[{'s1': 'DES', 'e1': 'M720', 'e2': '2090'},\n",
       " {'s1': 'DES', 'e1': 'M60', 'e2': 'CC'}]"
      ]
     },
     "execution_count": 7,
     "metadata": {},
     "output_type": "execute_result"
    }
   ],
   "source": [
    "runner_subset = tfr.Runner(parameters)\n",
    "des_runs = runner.get_runs('DES')\n",
    "runner_subset.stage(des_runs) \n",
    "\n",
    "runner_subset.get_runs()"
   ]
  },
  {
   "cell_type": "markdown",
   "metadata": {},
   "source": [
    "To make it easy to get runs, you can get a run from a runner by index. Get the first run added to the runner."
   ]
  },
  {
   "cell_type": "code",
   "execution_count": 8,
   "metadata": {},
   "outputs": [
    {
     "data": {
      "text/plain": [
       "{'s1': 'DES', 'e1': 'M720', 'e2': '2090'}"
      ]
     },
     "execution_count": 8,
     "metadata": {},
     "output_type": "execute_result"
    }
   ],
   "source": [
    "run_indexed = runner[0]\n",
    "run_indexed"
   ]
  },
  {
   "cell_type": "markdown",
   "metadata": {},
   "source": [
    "Or use slicing. Get the first two runs added to the runner."
   ]
  },
  {
   "cell_type": "code",
   "execution_count": 9,
   "metadata": {},
   "outputs": [
    {
     "data": {
      "text/plain": [
       "[{'s1': 'DES', 'e1': 'M720', 'e2': '2090'},\n",
       " {'s1': 'EX', 'e1': 'M60', 'e2': 'CC'}]"
      ]
     },
     "execution_count": 9,
     "metadata": {},
     "output_type": "execute_result"
    }
   ],
   "source": [
    "runner_sliced = runner[:2]\n",
    "runner_sliced"
   ]
  },
  {
   "cell_type": "markdown",
   "metadata": {},
   "source": [
    "To see what runs have been added to the runner."
   ]
  },
  {
   "cell_type": "code",
   "execution_count": 10,
   "metadata": {},
   "outputs": [
    {
     "data": {
      "text/plain": [
       "[{'s1': 'DES', 'e1': 'M720', 'e2': '2090'},\n",
       " {'s1': 'EX', 'e1': 'M60', 'e2': 'CC'},\n",
       " {'s1': 'DES', 'e1': 'M60', 'e2': 'CC'}]"
      ]
     },
     "execution_count": 10,
     "metadata": {},
     "output_type": "execute_result"
    }
   ],
   "source": [
    "runner.get_runs()"
   ]
  },
  {
   "cell_type": "markdown",
   "metadata": {},
   "source": [
    "Run the staged runs, with no associated run number."
   ]
  },
  {
   "cell_type": "code",
   "execution_count": null,
   "metadata": {},
   "outputs": [],
   "source": [
    "runner.run()"
   ]
  },
  {
   "cell_type": "markdown",
   "metadata": {},
   "source": [
    "To run a specific run number."
   ]
  },
  {
   "cell_type": "code",
   "execution_count": null,
   "metadata": {},
   "outputs": [],
   "source": [
    "runner.run('01')"
   ]
  },
  {
   "cell_type": "markdown",
   "metadata": {},
   "source": [
    "To run multiple run numbers, this will alternate run numbers as the runner proceeds through the runs. "
   ]
  },
  {
   "cell_type": "code",
   "execution_count": null,
   "metadata": {},
   "outputs": [],
   "source": [
    "runner.run('01', '02')"
   ]
  },
  {
   "cell_type": "markdown",
   "metadata": {},
   "source": [
    "And to run the run numbers in sequence. "
   ]
  },
  {
   "cell_type": "code",
   "execution_count": null,
   "metadata": {},
   "outputs": [],
   "source": [
    "runner.run('01')\n",
    "runner.run('02')"
   ]
  },
  {
   "cell_type": "markdown",
   "metadata": {},
   "source": [
    "You can create a new tuflow runner from other runners. The staged runs are inherited from runners it was created with runners. "
   ]
  },
  {
   "cell_type": "code",
   "execution_count": 13,
   "metadata": {},
   "outputs": [
    {
     "data": {
      "text/plain": [
       "[{'s1': 'EX', 'e1': 'M120', 'e2': 'CC'},\n",
       " {'s1': 'DES', 'e1': 'M120', 'e2': 'CC'},\n",
       " {'s1': 'DES', 'e1': 'M45', 'e2': 'NC'}]"
      ]
     },
     "execution_count": 13,
     "metadata": {},
     "output_type": "execute_result"
    }
   ],
   "source": [
    "runner_1 = tfr.Runner(parameters)\n",
    "runner_2 = tfr.Runner(parameters)\n",
    "runner_3 = tfr.Runner(parameters)\n",
    "\n",
    "runner_1.stage(tfr.Run(s1='EX', e1='M120', e2='CC'))\n",
    "runner_2.stage(tfr.Run(s1='DES', e1='M120', e2='CC'))\n",
    "runner_3.stage(tfr.Run(s1='DES', e1='M45', e2='NC'))\n",
    "\n",
    "runner_all = tfr.Runner(parameters, runner_1, runner_2, runner_3)\n",
    "\n",
    "runner_all.get_runs()"
   ]
  },
  {
   "cell_type": "markdown",
   "metadata": {},
   "source": [
    "There is no point running the exact same model twice, so duplicates are not added. 'runner_all' already has these three models so they wont be added again."
   ]
  },
  {
   "cell_type": "code",
   "execution_count": 14,
   "metadata": {},
   "outputs": [
    {
     "data": {
      "text/plain": [
       "[{'s1': 'EX', 'e1': 'M120', 'e2': 'CC'},\n",
       " {'s1': 'DES', 'e1': 'M120', 'e2': 'CC'},\n",
       " {'s1': 'DES', 'e1': 'M45', 'e2': 'NC'}]"
      ]
     },
     "execution_count": 14,
     "metadata": {},
     "output_type": "execute_result"
    }
   ],
   "source": [
    "runner_all.stage(tfr.Run(s1='EX', e1='M120', e2='CC'))\n",
    "runner_all.stage(tfr.Run(s1='DES', e1='M120', e2='CC'))\n",
    "runner_all.stage(tfr.Run(s1='DES', e1='M45', e2='NC'))\n",
    "\n",
    "runner_all.get_runs()"
   ]
  },
  {
   "cell_type": "markdown",
   "metadata": {},
   "source": [
    "Filter runs based on any model parameters. Lets get all the DES runs."
   ]
  },
  {
   "cell_type": "code",
   "execution_count": 15,
   "metadata": {},
   "outputs": [
    {
     "data": {
      "text/plain": [
       "[{'s1': 'DES', 'e1': 'M720', 'e2': '2090'},\n",
       " {'s1': 'DES', 'e1': 'M60', 'e2': 'CC'}]"
      ]
     },
     "execution_count": 15,
     "metadata": {},
     "output_type": "execute_result"
    }
   ],
   "source": [
    "des_runs = runner.get_runs('DES')\n",
    "des_runs"
   ]
  },
  {
   "cell_type": "markdown",
   "metadata": {},
   "source": [
    "Now get all runs that have the parameter 'DES' or 'EX'."
   ]
  },
  {
   "cell_type": "code",
   "execution_count": 16,
   "metadata": {},
   "outputs": [
    {
     "data": {
      "text/plain": [
       "[{'s1': 'DES', 'e1': 'M720', 'e2': '2090'},\n",
       " {'s1': 'EX', 'e1': 'M60', 'e2': 'CC'},\n",
       " {'s1': 'DES', 'e1': 'M60', 'e2': 'CC'}]"
      ]
     },
     "execution_count": 16,
     "metadata": {},
     "output_type": "execute_result"
    }
   ],
   "source": [
    "des_ex_runs = runner.get_runs('DES', 'EX')\n",
    "des_ex_runs"
   ]
  },
  {
   "cell_type": "markdown",
   "metadata": {},
   "source": [
    "Setting 'any=False' filters runs that must match ALL listed arguments. No runs satisfy both DES and EX scenarios."
   ]
  },
  {
   "cell_type": "code",
   "execution_count": 17,
   "metadata": {},
   "outputs": [
    {
     "data": {
      "text/plain": [
       "[]"
      ]
     },
     "execution_count": 17,
     "metadata": {},
     "output_type": "execute_result"
    }
   ],
   "source": [
    "no_runs = runner.get_runs('DES', \"EX\", any=False)\n",
    "no_runs"
   ]
  },
  {
   "cell_type": "markdown",
   "metadata": {},
   "source": [
    "Remove runs from a runner. Lets remove the DES runs from the runner, we retrieved above."
   ]
  },
  {
   "cell_type": "code",
   "execution_count": 18,
   "metadata": {},
   "outputs": [
    {
     "data": {
      "text/plain": [
       "[{'s1': 'EX', 'e1': 'M60', 'e2': 'CC'}]"
      ]
     },
     "execution_count": 18,
     "metadata": {},
     "output_type": "execute_result"
    }
   ],
   "source": [
    "runner_remove = tfr.Runner(parameters, runner)\n",
    "runner_remove.remove_runs(des_runs)\n",
    "runner_remove.get_runs()"
   ]
  },
  {
   "cell_type": "markdown",
   "metadata": {},
   "source": [
    "Make testing straight forward, by setting parameter on the fly."
   ]
  },
  {
   "cell_type": "code",
   "execution_count": null,
   "metadata": {},
   "outputs": [],
   "source": [
    "TEST = True\n",
    "\n",
    "if TEST:\n",
    "    parameters.flags = ['-t']\n",
    "    runner.run()\n",
    "else:\n",
    "    parameters.flags = ['-b']\n",
    "    runner.run()"
   ]
  },
  {
   "cell_type": "markdown",
   "metadata": {},
   "source": [
    "Change versions on the fly."
   ]
  },
  {
   "cell_type": "code",
   "execution_count": null,
   "metadata": {},
   "outputs": [],
   "source": [
    "parameters.version = '2020-10-AF'\n",
    "runner.run()"
   ]
  }
 ],
 "metadata": {
  "kernelspec": {
   "display_name": "Python 3",
   "language": "python",
   "name": "python3"
  },
  "language_info": {
   "codemirror_mode": {
    "name": "ipython",
    "version": 3
   },
   "file_extension": ".py",
   "mimetype": "text/x-python",
   "name": "python",
   "nbconvert_exporter": "python",
   "pygments_lexer": "ipython3",
   "version": "3.11.8"
  }
 },
 "nbformat": 4,
 "nbformat_minor": 2
}
