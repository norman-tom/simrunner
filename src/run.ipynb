{
 "cells": [
  {
   "cell_type": "markdown",
   "metadata": {},
   "source": [
    "# Tuflow Runner - Example Use"
   ]
  },
  {
   "cell_type": "code",
   "execution_count": 1,
   "metadata": {},
   "outputs": [],
   "source": [
    "import modelrunner.tuflow as tfr"
   ]
  },
  {
   "cell_type": "markdown",
   "metadata": {},
   "source": [
    "Set the Parameters of the run. Paths need to be entered as string literals. "
   ]
  },
  {
   "cell_type": "code",
   "execution_count": 2,
   "metadata": {},
   "outputs": [],
   "source": [
    "parameters: tfr.Parameters = tfr.Parameters(\n",
    "    exec_path = r\"C:/Program Files/TUFLOW\",      #The path to the TUFLOW executable\n",
    "    root = r\"../tests/data/tuflow/one_tcf\",      #The root of the model, location of the .tcf file.\n",
    "    version = r\"2020-10-AD\",                     #The version of the engine\n",
    "    engine = r\"DP\",                              #SP or DP\n",
    "    flags = ['flag1', 'flage2', 'flag3'],        #Any number of flags\n",
    "    async_runs = 2,                              #How many models to run at once\n",
    "    stdout = r'./output/folder'                  #Where to put the model output (what TUFLOW prints to the console). No more poppy up windows!\n",
    ")"
   ]
  },
  {
   "cell_type": "markdown",
   "metadata": {},
   "source": [
    "Create a new tuflow runner with the parameter defined above. "
   ]
  },
  {
   "cell_type": "code",
   "execution_count": 3,
   "metadata": {},
   "outputs": [],
   "source": [
    "runner = tfr.Runner(parameters)"
   ]
  },
  {
   "cell_type": "markdown",
   "metadata": {},
   "source": [
    "Create a Run. The run arguments need to match the tfc otherwise an error will occur when trying to stage the runs."
   ]
  },
  {
   "cell_type": "code",
   "execution_count": 4,
   "metadata": {},
   "outputs": [],
   "source": [
    "run = tfr.Run(s1=\"DES\", e1=\"M720\", e2=\"2100\")"
   ]
  },
  {
   "cell_type": "markdown",
   "metadata": {},
   "source": [
    "Stage that run in the runner."
   ]
  },
  {
   "cell_type": "code",
   "execution_count": 5,
   "metadata": {},
   "outputs": [],
   "source": [
    "runner.stage(run)"
   ]
  },
  {
   "cell_type": "markdown",
   "metadata": {},
   "source": [
    "Loop through a bunch of scenarios and stage them in the runner. "
   ]
  },
  {
   "cell_type": "code",
   "execution_count": 6,
   "metadata": {},
   "outputs": [],
   "source": [
    "scenarios = ['EX', 'DES']\n",
    "for s in scenarios:\n",
    "    run = tfr.Run(\n",
    "        s1=s,\n",
    "        e1='M60',\n",
    "        e2='CC'\n",
    "    )\n",
    "    runner.stage(run)"
   ]
  },
  {
   "cell_type": "markdown",
   "metadata": {},
   "source": [
    "Display the runs that are staged."
   ]
  },
  {
   "cell_type": "code",
   "execution_count": 7,
   "metadata": {},
   "outputs": [
    {
     "data": {
      "text/plain": [
       "[{'s1': 'DES', 'e1': 'M720', 'e2': '2100'},\n",
       " {'s1': 'EX', 'e1': 'M60', 'e2': 'CC'},\n",
       " {'s1': 'DES', 'e1': 'M60', 'e2': 'CC'}]"
      ]
     },
     "execution_count": 7,
     "metadata": {},
     "output_type": "execute_result"
    }
   ],
   "source": [
    "runner.get_runs()"
   ]
  },
  {
   "cell_type": "markdown",
   "metadata": {},
   "source": [
    "Run the staged runs."
   ]
  },
  {
   "cell_type": "code",
   "execution_count": null,
   "metadata": {},
   "outputs": [],
   "source": [
    "runner.run()"
   ]
  },
  {
   "cell_type": "markdown",
   "metadata": {},
   "source": [
    "Run a specific run number."
   ]
  },
  {
   "cell_type": "code",
   "execution_count": null,
   "metadata": {},
   "outputs": [],
   "source": [
    "runner.run('01')"
   ]
  },
  {
   "cell_type": "markdown",
   "metadata": {},
   "source": [
    "Run multiple run numbers, this will alternate running each model. "
   ]
  },
  {
   "cell_type": "code",
   "execution_count": null,
   "metadata": {},
   "outputs": [],
   "source": [
    "runner.run('01', '02')"
   ]
  },
  {
   "cell_type": "markdown",
   "metadata": {},
   "source": [
    "For sequetial running"
   ]
  },
  {
   "cell_type": "code",
   "execution_count": null,
   "metadata": {},
   "outputs": [],
   "source": [
    "runner.run('01')\n",
    "runner.run('02')"
   ]
  },
  {
   "cell_type": "markdown",
   "metadata": {},
   "source": [
    "Create a new tuflow runner from other runners. The staged runs are inherited from other runners. "
   ]
  },
  {
   "cell_type": "code",
   "execution_count": 10,
   "metadata": {},
   "outputs": [
    {
     "data": {
      "text/plain": [
       "[{'s1': 'EX', 'e1': 'M120', 'e2': 'CC'},\n",
       " {'s1': 'DES', 'e1': 'M120', 'e2': 'CC'},\n",
       " {'s1': 'DES', 'e1': 'M45', 'e2': 'NC'}]"
      ]
     },
     "execution_count": 10,
     "metadata": {},
     "output_type": "execute_result"
    }
   ],
   "source": [
    "runner_1 = tfr.Runner(parameters)\n",
    "runner_2 = tfr.Runner(parameters)\n",
    "runner_3 = tfr.Runner(parameters)\n",
    "\n",
    "runner_1.stage(tfr.Run(s1='EX', e1='M120', e2='CC'))\n",
    "runner_2.stage(tfr.Run(s1='DES', e1='M120', e2='CC'))\n",
    "runner_3.stage(tfr.Run(s1='DES', e1='M45', e2='NC'))\n",
    "\n",
    "runner_all = tfr.Runner(parameters, runner_1, runner_2, runner_3)\n",
    "\n",
    "runner_all.get_runs()"
   ]
  },
  {
   "cell_type": "markdown",
   "metadata": {},
   "source": [
    "Duplicates are not added."
   ]
  },
  {
   "cell_type": "code",
   "execution_count": 11,
   "metadata": {},
   "outputs": [
    {
     "data": {
      "text/plain": [
       "[{'s1': 'EX', 'e1': 'M120', 'e2': 'CC'},\n",
       " {'s1': 'DES', 'e1': 'M120', 'e2': 'CC'},\n",
       " {'s1': 'DES', 'e1': 'M45', 'e2': 'NC'}]"
      ]
     },
     "execution_count": 11,
     "metadata": {},
     "output_type": "execute_result"
    }
   ],
   "source": [
    "runner_all.stage(tfr.Run(s1='EX', e1='M120', e2='CC'))\n",
    "runner_all.stage(tfr.Run(s1='DES', e1='M120', e2='CC'))\n",
    "runner_all.stage(tfr.Run(s1='DES', e1='M45', e2='NC'))\n",
    "\n",
    "runner_all.get_runs()"
   ]
  },
  {
   "cell_type": "markdown",
   "metadata": {},
   "source": [
    "Filter runs based on any arguments in a list. Lets get all the DES runs."
   ]
  },
  {
   "cell_type": "code",
   "execution_count": 12,
   "metadata": {},
   "outputs": [
    {
     "data": {
      "text/plain": [
       "[{'s1': 'DES', 'e1': 'M720', 'e2': '2100'},\n",
       " {'s1': 'DES', 'e1': 'M60', 'e2': 'CC'}]"
      ]
     },
     "execution_count": 12,
     "metadata": {},
     "output_type": "execute_result"
    }
   ],
   "source": [
    "des_runs = runner.get_runs('DES')\n",
    "des_runs"
   ]
  },
  {
   "cell_type": "markdown",
   "metadata": {},
   "source": [
    "Now get all DES and EX runs."
   ]
  },
  {
   "cell_type": "code",
   "execution_count": 13,
   "metadata": {},
   "outputs": [
    {
     "data": {
      "text/plain": [
       "[{'s1': 'DES', 'e1': 'M720', 'e2': '2100'},\n",
       " {'s1': 'EX', 'e1': 'M60', 'e2': 'CC'},\n",
       " {'s1': 'DES', 'e1': 'M60', 'e2': 'CC'}]"
      ]
     },
     "execution_count": 13,
     "metadata": {},
     "output_type": "execute_result"
    }
   ],
   "source": [
    "des_ex_runs = runner.get_runs('DES', 'EX')\n",
    "des_ex_runs"
   ]
  },
  {
   "cell_type": "markdown",
   "metadata": {},
   "source": [
    "Filter runs that match ALL listed arguments. No runs satisfy both DES and EX scenarios."
   ]
  },
  {
   "cell_type": "code",
   "execution_count": 14,
   "metadata": {},
   "outputs": [
    {
     "data": {
      "text/plain": [
       "[]"
      ]
     },
     "execution_count": 14,
     "metadata": {},
     "output_type": "execute_result"
    }
   ],
   "source": [
    "no_runs = runner.get_runs('DES', \"EX\", any=False)\n",
    "no_runs"
   ]
  },
  {
   "cell_type": "markdown",
   "metadata": {},
   "source": [
    "Remove runs from a runner. Lets remove the DES runs from the runner, we retrieved above."
   ]
  },
  {
   "cell_type": "code",
   "execution_count": 15,
   "metadata": {},
   "outputs": [
    {
     "data": {
      "text/plain": [
       "[{'s1': 'EX', 'e1': 'M60', 'e2': 'CC'}]"
      ]
     },
     "execution_count": 15,
     "metadata": {},
     "output_type": "execute_result"
    }
   ],
   "source": [
    "runner_remove = tfr.Runner(parameters, runner)\n",
    "runner_remove.remove_runs(des_runs)\n",
    "runner_remove.get_runs()"
   ]
  },
  {
   "cell_type": "markdown",
   "metadata": {},
   "source": [
    "Stage runs that are in a list."
   ]
  },
  {
   "cell_type": "code",
   "execution_count": 16,
   "metadata": {},
   "outputs": [
    {
     "data": {
      "text/plain": [
       "[{'s1': 'DES', 'e1': 'M720', 'e2': '2100'},\n",
       " {'s1': 'DES', 'e1': 'M60', 'e2': 'CC'}]"
      ]
     },
     "execution_count": 16,
     "metadata": {},
     "output_type": "execute_result"
    }
   ],
   "source": [
    "runner_subset = tfr.Runner(parameters)\n",
    "des_runs = runner.get_runs('DES')\n",
    "runner_subset.stage(des_runs) \n",
    "\n",
    "runner_subset.get_runs()"
   ]
  },
  {
   "cell_type": "markdown",
   "metadata": {},
   "source": [
    "Get a run from a runner by index. Get the first run added to the runner."
   ]
  },
  {
   "cell_type": "code",
   "execution_count": 18,
   "metadata": {},
   "outputs": [
    {
     "data": {
      "text/plain": [
       "{'s1': 'DES', 'e1': 'M720', 'e2': '2100'}"
      ]
     },
     "execution_count": 18,
     "metadata": {},
     "output_type": "execute_result"
    }
   ],
   "source": [
    "run_indexed = runner[0]\n",
    "run_indexed"
   ]
  },
  {
   "cell_type": "markdown",
   "metadata": {},
   "source": [
    "Or by slice. Get the first two runs added to the runner."
   ]
  },
  {
   "cell_type": "code",
   "execution_count": 19,
   "metadata": {},
   "outputs": [
    {
     "data": {
      "text/plain": [
       "[{'s1': 'DES', 'e1': 'M720', 'e2': '2100'},\n",
       " {'s1': 'EX', 'e1': 'M60', 'e2': 'CC'}]"
      ]
     },
     "execution_count": 19,
     "metadata": {},
     "output_type": "execute_result"
    }
   ],
   "source": [
    "runner_sliced = runner[:2]\n",
    "runner_sliced"
   ]
  },
  {
   "cell_type": "markdown",
   "metadata": {},
   "source": [
    "Make toggle testing straight forward, by setting parameter on the fly. The parameter must have been intially set when the Parameters object was created."
   ]
  },
  {
   "cell_type": "code",
   "execution_count": null,
   "metadata": {},
   "outputs": [],
   "source": [
    "TEST = True\n",
    "\n",
    "if TEST:\n",
    "    parameters.flags = ['test']\n",
    "    runner.run()\n",
    "else:\n",
    "    parameters.flags = ['batch']\n",
    "    runner.run()"
   ]
  },
  {
   "cell_type": "markdown",
   "metadata": {},
   "source": [
    "Change versions on the fly."
   ]
  },
  {
   "cell_type": "code",
   "execution_count": null,
   "metadata": {},
   "outputs": [],
   "source": [
    "parameters.version = '2020-10-AF'\n",
    "runner.run()"
   ]
  }
 ],
 "metadata": {
  "kernelspec": {
   "display_name": "Python 3",
   "language": "python",
   "name": "python3"
  },
  "language_info": {
   "codemirror_mode": {
    "name": "ipython",
    "version": 3
   },
   "file_extension": ".py",
   "mimetype": "text/x-python",
   "name": "python",
   "nbconvert_exporter": "python",
   "pygments_lexer": "ipython3",
   "version": "3.11.8"
  }
 },
 "nbformat": 4,
 "nbformat_minor": 2
}
