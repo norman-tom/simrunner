{
 "cells": [
  {
   "cell_type": "markdown",
   "metadata": {},
   "source": [
    "# Simrunner - Example use with Tuflow\n",
    "Author: Tom Norman  \n",
    "Version 0.1.0 (Prerelease)"
   ]
  },
  {
   "cell_type": "markdown",
   "metadata": {},
   "source": [
    "__Disclaimer__: \n",
    "This package, or any of the work associated with simrunner has absolutely no affiliation with Tuflow or BMT. "
   ]
  },
  {
   "cell_type": "markdown",
   "metadata": {},
   "source": [
    "A working example of using Simrunner to call the demonstration examples of Tuflow, downloaded [here](https://downloads.tuflow.com/TUFLOW/Wiki_Example_Models/TUFLOW_Example_Model_Dataset.zip). The demostration files are all lumped together and are not the prefered way of setting out your project. This example demostrates the flexibility of Simrunner when you need it.\n",
    "\n",
    "The batch file we are replicating is below:"
   ]
  },
  {
   "cell_type": "markdown",
   "metadata": {},
   "source": [
    "```Batch\n",
    "set EXE_iSP=..\\exe\\2023-03-AC\\TUFLOW_iSP_w64.exe\n",
    "set EXE_iDP=..\\exe\\2023-03-AC\\TUFLOW_iDP_w64.exe\n",
    "\n",
    "start \"TUFLOW\" /wait   %EXE_iSP% -b  -sl  Exg EG16_~s1~_001.tcf\n",
    "start \"TUFLOW\" /wait   %EXE_iSP% -b  -sl  D01 EG16_~s1~_001.tcf\n",
    "start \"TUFLOW\" /wait   %EXE_iSP% -b  -sl  Exg  -s2  5m EG16_~s1~_~s2~_002.tcf\n",
    "start \"TUFLOW\" /wait   %EXE_iSP% -b  -sl  D01  -s2  5m EG16_~s1~_~s2~_002.tcf\n",
    "start \"TUFLOW\" /wait   %EXE_iSP% -b  -sl  Exg  -s2  2.5m EG16_~s1~_~s2~_002.tcf\n",
    "start \"TUFLOW\" /wait   %EXE_iSP% -b  -sl  D01  -s2  2.5m EG16_~s1~_~s2~_002.tcf\n",
    "start \"TUFLOW\" /wait   %EXE_iSP% -b  -sl  Exg  -s2  5m EG16_~s1~_~s2~_003.tcf\n",
    "start \"TUFLOW\" /wait   %EXE_iSP% -b  -sl  D01  -s2  5m EG16_~s1~_~s2~_003.tcf\n",
    "start \"TUFLOW\" /wait   %EXE_iSP% -b  -el  Q100 EG16_~e1~_004.tcf\n",
    "start \"TUFLOW\" /wait   %EXE_iSP% -b  -el  QPMF EG16_~e1~_004.tcf\n",
    "start \"TUFLOW\" /wait   %EXE_iSP% -b  -el  Q100 -e2 2hr EG16_~e1~_~e2~_005.tcf\n",
    "start \"TUFLOW\" /wait   %EXE_iSP% -b  -el  Q100 -e2 4hr EG16_~e1~_~e2~_005.tcf\n",
    "start \"TUFLOW\" /wait   %EXE_iSP% -b  -el  QPMF -e2 2hr EG16_~e1~_~e2~_005.tcf\n",
    "start \"TUFLOW\" /wait   %EXE_iSP% -b  -el  QPMF -e2 4hr EG16_~e1~_~e2~_005.tcf\n",
    "start \"TUFLOW\" /wait   %EXE_iSP% -b  -sl  Exg  -s2  5m  -el  Q100 -e2  2hr EG16_~s1~_~s2~_~e1~_~e2~_006.tcf\n",
    "start \"TUFLOW\" /wait   %EXE_iSP% -b  -sl  D01  -s2  5m  -el  Q100 -e2  4hr EG16_~s1~_~s2~_~e1~_~e2~_006.tcf\n",
    "start \"TUFLOW\" /wait   %EXE_iSP% -b  -sl  Exg  -s2  5m  -el  QPMF -e2  2hr EG16_~s1~_~s2~_~e1~_~e2~_006.tcf\n",
    "start \"TUFLOW\" /wait   %EXE_iSP% -b  -sl  D01  -s2  5m  -el  QPMF -e2  4hr EG16_~s1~_~s2~_~e1~_~e2~_006.tcf\n",
    "```"
   ]
  },
  {
   "cell_type": "markdown",
   "metadata": {},
   "source": [
    "Import Simrunner to so we can use it. "
   ]
  },
  {
   "cell_type": "code",
   "execution_count": 9,
   "metadata": {},
   "outputs": [],
   "source": [
    "import simrunner.tuflow as tfr"
   ]
  },
  {
   "cell_type": "markdown",
   "metadata": {},
   "source": [
    "Set up the parameter files."
   ]
  },
  {
   "cell_type": "code",
   "execution_count": 10,
   "metadata": {},
   "outputs": [],
   "source": [
    "parameters: tfr.Parameters = tfr.Parameters(\n",
    "    exec_path = r\"..\\tests\\data\\tuflow\\examples\\raw\\exe\",   # The path to the TUFLOW executable.\n",
    "    root = r\"..\\tests\\data\\tuflow\\examples\\raw\\runs\",       # The root of the model, location of the .tcf file.\n",
    "    version = r\"2023-03-AC\",                                # The version of the engine.\n",
    "    engine = r\"SP\",                                         # Single precision.\n",
    "    flags = ['-t'],                                         # Lets just test for now.\n",
    "    async_runs = 2,                                         # Run two models at once.\n",
    "    stdout = r'..\\trash\\stdout',                            # In a location away from the source code.\n",
    "    group = r\"EG16\"                                         # Only focusing on EG16.\n",
    ")"
   ]
  },
  {
   "cell_type": "markdown",
   "metadata": {},
   "source": [
    "Create a dictionary of the runs you want to stage. "
   ]
  },
  {
   "cell_type": "code",
   "execution_count": 11,
   "metadata": {},
   "outputs": [],
   "source": [
    "runs = {\n",
    "    \"001\": [\n",
    "        tfr.Run(s1=\"Exg\"),\n",
    "        tfr.Run(s1=\"D01\")\n",
    "    ],\n",
    "    \"002\": [\n",
    "        tfr.Run(s1=\"Exg\", s2=\"5m\"),\n",
    "        tfr.Run(s1=\"D01\", s2=\"5m\"),\n",
    "        tfr.Run(s1=\"Exg\", s2=\"2.5m\"),\n",
    "        tfr.Run(s1=\"D01\", s2=\"2.5m\")\n",
    "    ],\n",
    "    \"003\": [\n",
    "        tfr.Run(s1=\"Exg\", s2=\"5m\"),\n",
    "        tfr.Run(s1=\"D01\", s2=\"5m\")\n",
    "    ],\n",
    "    \"004\": [\n",
    "        tfr.Run(e1=\"Q100\"),\n",
    "        tfr.Run(e1=\"QPMF\")\n",
    "    ],\n",
    "    \"005\": [\n",
    "        tfr.Run(e1=\"Q100\", e2=\"2hr\"),\n",
    "        tfr.Run(e1=\"Q100\", e2=\"4hr\"),\n",
    "        tfr.Run(e1=\"QPMF\", e2=\"2hr\"),\n",
    "        tfr.Run(e1=\"QPMF\", e2=\"4hr\"),\n",
    "    ],\n",
    "    \"006\": [\n",
    "        tfr.Run(s1=\"Exg\", s2=\"5m\", e1=\"Q100\", e2=\"2hr\"),\n",
    "        tfr.Run(s1=\"D01\", s2=\"5m\", e1=\"Q100\", e2=\"4hr\"),\n",
    "        tfr.Run(s1=\"Exg\", s2=\"5m\", e1=\"QPMF\", e2=\"2hr\"),\n",
    "        tfr.Run(s1=\"D01\", s2=\"5m\", e1=\"QPMF\", e2=\"4hr\"),\n",
    "    ]\n",
    "}"
   ]
  },
  {
   "cell_type": "markdown",
   "metadata": {},
   "source": [
    "Create the runner."
   ]
  },
  {
   "cell_type": "code",
   "execution_count": 12,
   "metadata": {},
   "outputs": [],
   "source": [
    "runner = tfr.Runner(parameters)"
   ]
  },
  {
   "cell_type": "markdown",
   "metadata": {},
   "source": [
    "Stage the above run in the runner."
   ]
  },
  {
   "cell_type": "code",
   "execution_count": 13,
   "metadata": {},
   "outputs": [],
   "source": [
    "def ar(num):\n",
    "    \"\"\"Returns a list of the run arguments for a set of runs\"\"\"\n",
    "    return list(runs[num][0].get_args().keys())\n",
    "\n",
    "parameters.run_args = ar('001')     \n",
    "\"\"\" If the folder is structured correctly, setting run_args ahead of time is not needed. \n",
    "This can get you in trouble as it is then possible to run the wrong set of runs.\n",
    "When the wrong arguments are encounter the batch may stop running. This is why during \n",
    "staging the runs are checked to make sure their arguments are correct.\"\"\"\n",
    "\n",
    "runner.stage(\n",
    "    [run for run in runs[\"001\"]]\n",
    ")\n",
    "\n",
    "parameters.run_args = ar('002')\n",
    "runner.stage(\n",
    "    [run for run in runs[\"002\"]]\n",
    ")\n",
    "\n",
    "parameters.run_args = ar(\"003\")\n",
    "runner.stage(\n",
    "    [run for run in runs[\"003\"]]\n",
    ")\n",
    "\n",
    "parameters.run_args = ar('004')\n",
    "runner.stage(\n",
    "    [run for run in runs[\"004\"]]\n",
    ")\n",
    "\n",
    "parameters.run_args = ar('005')\n",
    "runner.stage(\n",
    "    [run for run in runs[\"005\"]]\n",
    ")\n",
    "\n",
    "parameters.run_args = ar('006')\n",
    "runner.stage(\n",
    "    [run for run in runs[\"006\"]]\n",
    ")"
   ]
  },
  {
   "cell_type": "markdown",
   "metadata": {},
   "source": [
    "Lets check to see what has been staged. Notice the different sets of run arguments? We ideally dont want this.  "
   ]
  },
  {
   "cell_type": "code",
   "execution_count": 14,
   "metadata": {},
   "outputs": [
    {
     "data": {
      "text/plain": [
       "[{'s1': 'Exg'},\n",
       " {'s1': 'D01'},\n",
       " {'s1': 'Exg', 's2': '5m'},\n",
       " {'s1': 'D01', 's2': '5m'},\n",
       " {'s1': 'Exg', 's2': '2.5m'},\n",
       " {'s1': 'D01', 's2': '2.5m'},\n",
       " {'e1': 'Q100'},\n",
       " {'e1': 'QPMF'},\n",
       " {'e1': 'Q100', 'e2': '2hr'},\n",
       " {'e1': 'Q100', 'e2': '4hr'},\n",
       " {'e1': 'QPMF', 'e2': '2hr'},\n",
       " {'e1': 'QPMF', 'e2': '4hr'},\n",
       " {'s1': 'Exg', 's2': '5m', 'e1': 'Q100', 'e2': '2hr'},\n",
       " {'s1': 'D01', 's2': '5m', 'e1': 'Q100', 'e2': '4hr'},\n",
       " {'s1': 'Exg', 's2': '5m', 'e1': 'QPMF', 'e2': '2hr'},\n",
       " {'s1': 'D01', 's2': '5m', 'e1': 'QPMF', 'e2': '4hr'}]"
      ]
     },
     "execution_count": 14,
     "metadata": {},
     "output_type": "execute_result"
    }
   ],
   "source": [
    "runner.get_runs()"
   ]
  },
  {
   "cell_type": "markdown",
   "metadata": {},
   "source": [
    "To run, we have to subset the runs into the corresponding run groups. If we call run with say, run_number='001', the correct TCF will be call, but every set of runs will be called with it. Runs are not associated with TCFs! They are sets of arguments. Simrunner makes is easy to add, remove and query runs."
   ]
  },
  {
   "cell_type": "code",
   "execution_count": 15,
   "metadata": {},
   "outputs": [
    {
     "data": {
      "text/plain": [
       "[{'s1': 'Exg'}, {'s1': 'D01'}]"
      ]
     },
     "execution_count": 15,
     "metadata": {},
     "output_type": "execute_result"
    }
   ],
   "source": [
    "runner_001 = tfr.Runner(parameters, runner)\n",
    "runner_001.remove_runs(runner[2:])\n",
    "runner_001.get_runs()"
   ]
  },
  {
   "cell_type": "markdown",
   "metadata": {},
   "source": [
    "By calling run with run_number=\"001\" we are asking Simrunner to evaluate the runs staged in runner_001 against the TCF with group id 'EG16' and run_number '001', there should only be one TCF that satisfies this, otherwise your on your own."
   ]
  },
  {
   "cell_type": "code",
   "execution_count": 16,
   "metadata": {},
   "outputs": [
    {
     "name": "stdout",
     "output_type": "stream",
     "text": [
      "executing: {'s1': 'Exg'}_001\n",
      "executing: {'s1': 'D01'}_001\n",
      "---- ALL RUNS COMPLETE ----\n"
     ]
    }
   ],
   "source": [
    "runner_001.run(\"001\")"
   ]
  },
  {
   "cell_type": "markdown",
   "metadata": {},
   "source": [
    "We can repeat this paradim for the other run groups 002 to 006. But lets just run 006."
   ]
  },
  {
   "cell_type": "code",
   "execution_count": 17,
   "metadata": {},
   "outputs": [
    {
     "data": {
      "text/plain": [
       "[{'s1': 'Exg', 's2': '5m', 'e1': 'QPMF', 'e2': '2hr'},\n",
       " {'s1': 'D01', 's2': '5m', 'e1': 'QPMF', 'e2': '4hr'}]"
      ]
     },
     "execution_count": 17,
     "metadata": {},
     "output_type": "execute_result"
    }
   ],
   "source": [
    "runner_006 = tfr.Runner(parameters, runner)\n",
    "runner_006.remove_runs(runner[:-2])\n",
    "runner_006.get_runs()"
   ]
  },
  {
   "cell_type": "markdown",
   "metadata": {},
   "source": [
    "Test first"
   ]
  },
  {
   "cell_type": "code",
   "execution_count": 18,
   "metadata": {},
   "outputs": [
    {
     "name": "stdout",
     "output_type": "stream",
     "text": [
      "executing: {'s1': 'Exg', 's2': '5m', 'e1': 'QPMF', 'e2': '2hr'}_006\n",
      "executing: {'s1': 'D01', 's2': '5m', 'e1': 'QPMF', 'e2': '4hr'}_006\n",
      "---- ALL RUNS COMPLETE ----\n"
     ]
    }
   ],
   "source": [
    "parameters.flags = ['-t']\n",
    "runner_006.run(\"006\")"
   ]
  },
  {
   "cell_type": "markdown",
   "metadata": {},
   "source": [
    "Then run"
   ]
  },
  {
   "cell_type": "code",
   "execution_count": 19,
   "metadata": {},
   "outputs": [
    {
     "name": "stdout",
     "output_type": "stream",
     "text": [
      "executing: {'s1': 'Exg', 's2': '5m', 'e1': 'QPMF', 'e2': '2hr'}_006\n",
      "executing: {'s1': 'D01', 's2': '5m', 'e1': 'QPMF', 'e2': '4hr'}_006\n",
      "---- ALL RUNS COMPLETE ----\n"
     ]
    }
   ],
   "source": [
    "parameters.flags = ['-b']\n",
    "runner_006.run(\"006\")"
   ]
  }
 ],
 "metadata": {
  "kernelspec": {
   "display_name": "Python 3",
   "language": "python",
   "name": "python3"
  },
  "language_info": {
   "codemirror_mode": {
    "name": "ipython",
    "version": 3
   },
   "file_extension": ".py",
   "mimetype": "text/x-python",
   "name": "python",
   "nbconvert_exporter": "python",
   "pygments_lexer": "ipython3",
   "version": "3.11.8"
  }
 },
 "nbformat": 4,
 "nbformat_minor": 2
}
